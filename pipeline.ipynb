{
 "cells": [
  {
   "cell_type": "code",
   "execution_count": 1,
   "metadata": {},
   "outputs": [
    {
     "name": "stderr",
     "output_type": "stream",
     "text": [
      "/Users/tobiasbeidlershenk/dev/repos/pdga-rating-bot/venv/lib/python3.9/site-packages/urllib3/__init__.py:35: NotOpenSSLWarning: urllib3 v2 only supports OpenSSL 1.1.1+, currently the 'ssl' module is compiled with 'LibreSSL 2.8.3'. See: https://github.com/urllib3/urllib3/issues/3020\n",
      "  warnings.warn(\n"
     ]
    },
    {
     "name": "stdout",
     "output_type": "stream",
     "text": [
      "[01/Nov/2024 15:01:59] INFO - Chromedriver is already installed.\n"
     ]
    },
    {
     "data": {
      "text/plain": [
       "'/Users/tobiasbeidlershenk/dev/repos/pdga-rating-bot/venv/lib/python3.9/site-packages/chromedriver_autoinstaller/130/chromedriver'"
      ]
     },
     "execution_count": 1,
     "metadata": {},
     "output_type": "execute_result"
    }
   ],
   "source": [
    "# 1. Import and install requirements\n",
    "from logger import logger\n",
    "from util.database import Database\n",
    "from util.scraper import Scraper\n",
    "import json\n",
    "import itertools\n",
    "import chromedriver_autoinstaller\n",
    "\n",
    "database = Database(\"sqlite:///data/pdga_data.db\")\n",
    "scraper = Scraper()\n",
    "\n",
    "chromedriver_autoinstaller.install()"
   ]
  },
  {
   "cell_type": "code",
   "execution_count": null,
   "metadata": {},
   "outputs": [],
   "source": [
    "# 2. Build list of courses and write to JSON\n",
    "courses = scraper.get_courses_from_dgscene()\n",
    "course_names = {\n",
    "    course: scraper.get_readable_course_name(course) for course in courses\n",
    "}\n",
    "with open('data/course_names.json', 'w') as f:\n",
    "    json.dump(course_names, f, indent=4)"
   ]
  },
  {
   "cell_type": "code",
   "execution_count": null,
   "metadata": {},
   "outputs": [],
   "source": [
    "# 3. Build list of events and write to JSON\n",
    "with open('data/course_names.json') as f:\n",
    "    course_names: dict = json.load(f)\n",
    "\n",
    "with open('data/course_events.json') as f:\n",
    "    course_events: dict = json.load(f)\n",
    "\n",
    "for i, course in enumerate(course_names):\n",
    "    if course in course_events:\n",
    "        logger.info(f'Skipping {course} (already scraped)...')\n",
    "        continue\n",
    "\n",
    "    logger.info(f'Fetching event {i}/{len(course_names)}')\n",
    "    course_events[course] = scraper.get_all_sanctioned_events(course)\n",
    "    logger.info(course_events[course])\n",
    "\n",
    "    # periodically save ratings to file\n",
    "    with open('data/course_events.json', 'w') as f:\n",
    "        json.dump(course_events, f, indent=4)\n",
    "\n",
    "logger.info(\"Done\")"
   ]
  },
  {
   "cell_type": "code",
   "execution_count": null,
   "metadata": {},
   "outputs": [],
   "source": [
    "# 4. Fetch ratings for each event and load into DB\n",
    "try:\n",
    "    logger.info('Fetching ratings...')\n",
    "    \n",
    "    with open('data/course_names.json') as f:\n",
    "        course_names: dict = json.load(f)\n",
    "    with open('data/course_events.json') as f:\n",
    "        course_events: dict = json.load(f)\n",
    "    \n",
    "    for i, course in enumerate(course_events):\n",
    "        events = course_events[course]\n",
    "        rounds = []\n",
    "\n",
    "        for j, event in enumerate(events):\n",
    "            event_id = event['event_id']\n",
    "            if database.event_exists(event_id):\n",
    "                logger.info(f'Skipping {event_id} (already scraped)...')\n",
    "                continue\n",
    "\n",
    "            course_ratings = scraper.get_round_ratings_for_tournament(event_id)\n",
    "            rounds.extend(course_ratings)\n",
    "            logger.info(f'Event {j+1}/{len(events)} - Course {i+1}/{len(course_events)}')\n",
    "\n",
    "        data = {\n",
    "            'course_name': course,\n",
    "            'readable_course_name': course_names[course],\n",
    "            'events': course_events[course],\n",
    "            'rounds': rounds\n",
    "        }\n",
    "        database.insert_course_data(data)\n",
    "        \n",
    "\n",
    "except BaseException as e:\n",
    "    logger.info(f'Error fetching ratings: {e.with_traceback()}')\n",
    "except KeyboardInterrupt as e:\n",
    "    logger.info(f'Error fetching ratings: {e.with_traceback()}')\n",
    "\n",
    "scraper.cleanup()\n",
    "logger.info(\"Done\")"
   ]
  }
 ],
 "metadata": {
  "kernelspec": {
   "display_name": "venv",
   "language": "python",
   "name": "python3"
  },
  "language_info": {
   "codemirror_mode": {
    "name": "ipython",
    "version": 3
   },
   "file_extension": ".py",
   "mimetype": "text/x-python",
   "name": "python",
   "nbconvert_exporter": "python",
   "pygments_lexer": "ipython3",
   "version": "3.9.6"
  }
 },
 "nbformat": 4,
 "nbformat_minor": 2
}
