{
 "cells": [
  {
   "cell_type": "code",
   "execution_count": 1,
   "metadata": {},
   "outputs": [
    {
     "name": "stderr",
     "output_type": "stream",
     "text": [
      "/Users/tobiasbeidlershenk/dev/repos/pdga-rating-bot/venv/lib/python3.9/site-packages/urllib3/__init__.py:35: NotOpenSSLWarning: urllib3 v2 only supports OpenSSL 1.1.1+, currently the 'ssl' module is compiled with 'LibreSSL 2.8.3'. See: https://github.com/urllib3/urllib3/issues/3020\n",
      "  warnings.warn(\n"
     ]
    },
    {
     "name": "stdout",
     "output_type": "stream",
     "text": [
      "[01/Nov/2024 15:01:59] INFO - Chromedriver is already installed.\n"
     ]
    },
    {
     "data": {
      "text/plain": [
       "'/Users/tobiasbeidlershenk/dev/repos/pdga-rating-bot/venv/lib/python3.9/site-packages/chromedriver_autoinstaller/130/chromedriver'"
      ]
     },
     "execution_count": 1,
     "metadata": {},
     "output_type": "execute_result"
    }
   ],
   "source": [
    "# 1. Import and install requirements\n",
    "from logger import logger\n",
    "from util.database import Database\n",
    "from util.scraper import Scraper\n",
    "import json\n",
    "import itertools\n",
    "import chromedriver_autoinstaller\n",
    "\n",
    "database = Database(\"sqlite:///data/pdga_data.db\")\n",
    "scraper = Scraper()\n",
    "\n",
    "chromedriver_autoinstaller.install()"
   ]
  },
  {
   "cell_type": "code",
   "execution_count": null,
   "metadata": {},
   "outputs": [],
   "source": [
    "# 2. Build list of courses and write to JSON\n",
    "courses = scraper.get_courses_from_dgscene()\n",
    "course_names = {\n",
    "    course: scraper.get_readable_course_name(course) for course in courses\n",
    "}\n",
    "with open('data/course_names.json', 'w') as f:\n",
    "    json.dump(course_names, f, indent=4)"
   ]
  },
  {
   "cell_type": "code",
   "execution_count": null,
   "metadata": {},
   "outputs": [],
   "source": [
    "# 3. Build list of events and write to JSON\n",
    "with open('data/course_names.json') as f:\n",
    "    course_names: dict = json.load(f)\n",
    "\n",
    "with open('data/course_events.json') as f:\n",
    "    course_events: dict = json.load(f)\n",
    "\n",
    "for i, course in enumerate(course_names):\n",
    "    if course in course_events:\n",
    "        logger.info(f'Skipping {course} (already scraped)...')\n",
    "        continue\n",
    "\n",
    "    logger.info(f'Fetching event {i}/{len(course_names)}')\n",
    "    course_events[course] = scraper.get_all_sanctioned_events(course)\n",
    "    logger.info(course_events[course])\n",
    "\n",
    "    # periodically save ratings to file\n",
    "    with open('data/course_events.json', 'w') as f:\n",
    "        json.dump(course_events, f, indent=4)\n",
    "\n",
    "logger.info(\"Done\")"
   ]
  },
  {
   "cell_type": "code",
   "execution_count": null,
   "metadata": {},
   "outputs": [],
   "source": [
    "# 4. Fetch ratings for each event and load into DB\n",
    "try:\n",
    "    logger.info('Fetching ratings...')\n",
    "    \n",
    "    with open('data/course_names.json') as f:\n",
    "        course_names: dict = json.load(f)\n",
    "    with open('data/course_events.json') as f:\n",
    "        course_events: dict = json.load(f)\n",
    "    \n",
    "    for i, course in enumerate(course_events):\n",
    "        events = course_events[course]\n",
    "        rounds = []\n",
    "\n",
    "        for j, event in enumerate(events):\n",
    "            event_id = event['event_id']\n",
    "            if database.event_exists(event_id):\n",
    "                logger.info(f'Skipping {event_id} (already scraped)...')\n",
    "                continue\n",
    "\n",
    "            course_ratings = scraper.get_round_ratings_for_tournament(event_id)\n",
    "            rounds.extend(course_ratings)\n",
    "            logger.info(f'Event {j+1}/{len(events)} - Course {i+1}/{len(course_events)}')\n",
    "\n",
    "        data = {\n",
    "            'course_name': course,\n",
    "            'readable_course_name': course_names[course],\n",
    "            'events': course_events[course],\n",
    "            'rounds': rounds\n",
    "        }\n",
    "        database.insert_course_data(data)\n",
    "        \n",
    "\n",
    "except BaseException as e:\n",
    "    logger.info(f'Error fetching ratings: {e.with_traceback()}')\n",
    "except KeyboardInterrupt as e:\n",
    "    logger.info(f'Error fetching ratings: {e.with_traceback()}')\n",
    "\n",
    "scraper.cleanup()\n",
    "logger.info(\"Done\")"
   ]
  },
  {
   "cell_type": "code",
   "execution_count": 2,
   "metadata": {},
   "outputs": [
    {
     "name": "stderr",
     "output_type": "stream",
     "text": [
      "/Users/tobiasbeidlershenk/dev/repos/pdga-rating-bot/venv/lib/python3.9/site-packages/fuzzywuzzy/fuzz.py:11: UserWarning: Using slow pure-python SequenceMatcher. Install python-Levenshtein to remove this warning\n",
      "  warnings.warn('Using slow pure-python SequenceMatcher. Install python-Levenshtein to remove this warning')\n"
     ]
    }
   ],
   "source": [
    "from decimal import Decimal\n",
    "import sys\n",
    "from fuzzywuzzy import fuzz, process\n",
    "import numpy as np\n",
    "from collections import Counter\n",
    "from itertools import groupby\n",
    "\n",
    "from models.round import group_comparable_rounds, Layout, Round\n",
    "\n",
    "def get_ratings(course_name: str, layout_name: str, score: int) -> dict:\n",
    "    rounds = database.query_all_course_rounds(course_name)\n",
    "    if len(rounds) == 0:\n",
    "        all_course_names = [course.readable_course_name for course in database.query_all_courses()]\n",
    "        scored_course_names: tuple[str, int] = process.extractBests(course_name, all_course_names, scorer=fuzz.partial_ratio, score_cutoff=0, limit=5)\n",
    "        similar_course_names = [course for course, _ in scored_course_names]\n",
    "        sys.exit(f\"No courses found for course: '{course_name}'. \\nDid you mean: {', '.join(similar_course_names)}\")\n",
    "\n",
    "    all_layout_names = set([round.layout_name for round in rounds])\n",
    "    scored_layouts: tuple[str, int] = process.extractBests(layout_name, all_layout_names, scorer=fuzz.partial_token_sort_ratio, score_cutoff=0, limit=10)\n",
    "    best_layout_score = scored_layouts[0][1]\n",
    "    if best_layout_score < 75:\n",
    "        similar_layout_names = [layout for layout, _ in scored_layouts]\n",
    "        sys.exit(f\"No rounds found for layout: '{layout_name}'. \\nDid you mean: {', '.join(similar_layout_names)}\")\n",
    "\n",
    "    # if layout_name.lower() in [x.lower() for x in all_layout_names]:\n",
    "    #     scored_layout_names = [layout_name]\n",
    "    # else:\n",
    "    matching_layout_names = [layout for layout, _ in process.extractBests(layout_name, all_layout_names, scorer=fuzz.partial_token_sort_ratio, score_cutoff=75, limit=100)]\n",
    "    matching_rounds = [round for round in rounds if round.layout_name in matching_layout_names]\n",
    "    grouped_layouts = group_comparable_rounds(matching_rounds)\n",
    "\n",
    "    print(\"1st match: \")\n",
    "    print(grouped_layouts[0])\n",
    "    print()\n",
    "    print(\"2nd match: \")\n",
    "    print(grouped_layouts[1])\n",
    "    print()\n",
    "    print(\"3rd match: \")\n",
    "    print(grouped_layouts[2])\n",
    "    print()\n",
    "\n",
    "    option_chosen = int(input(\"Enter the best match (1,2,3): \"))\n",
    "    chosen_layout = grouped_layouts[option_chosen-1]\n",
    "\n",
    "    print(f'Rating: {chosen_layout.score_rating(score)}')"
   ]
  },
  {
   "cell_type": "code",
   "execution_count": 6,
   "metadata": {},
   "outputs": [
    {
     "name": "stdout",
     "output_type": "stream",
     "text": [
      "{'FWO 2024 - White', 'FWO - 2022 - White', 'Foxwood Red 2021 - AM', 'Big White Short - Foxwood Open', 'FWO 2023 - White', 'FWO 2024 - Gold Pro Mixed Open and MA1', 'Big Red Long - Foxwood Open', 'Big Red Long - Foxwood Open Rd3', 'Foxwood White 2021', 'Big Red Short - Foxwood Open Rd3', 'Foxwood Red 2021', 'Big White Long - Foxwood Open', 'Big Red Short - Foxwood Open', 'Foxwood White 2021 - AM', 'FOW 2023 - Gold', 'FWO 2024 - Gold Pro FPO', 'FWO - 2022 - Gold'}\n",
      "1st match: \n",
      "Hole distances: 1: 760, 2: 325, 3: 380, 4: 265, 5: 620, 6: 250, 7: 500, 8: 320, 9: 315, 10: 375, 11: 345, 12: 790, 13: 400, 14: 875, 15: 255, 16: 275, 17: 630, 18: 710\n",
      "Total distance: 8390, Par: 62\n",
      "Calculated using 15 rounds\n",
      "\n",
      "2nd match: \n",
      "Hole distances: 1: 770, 2: 325, 3: 380, 4: 265, 5: 615, 6: 255, 7: 500, 8: 270, 9: 330, 10: 365, 11: 350, 12: 940, 13: 400, 14: 895, 15: 270, 16: 275, 17: 630, 18: 710\n",
      "Total distance: 8545, Par: 63\n",
      "Calculated using 15 rounds\n",
      "\n",
      "3rd match: \n",
      "Hole distances: 1: 770, 2: 325, 3: 380, 4: 285, 5: 615, 6: 255, 7: 500, 8: 305, 9: 330, 10: 365, 11: 305, 12: 790, 13: 400, 14: 740, 15: 280, 16: 320, 17: 630, 18: 710\n",
      "Total distance: 8305, Par: 61\n",
      "Calculated using 12 rounds\n",
      "\n",
      "Rating: 967\n"
     ]
    }
   ],
   "source": [
    "course_name = \"Foxwood\"\n",
    "layout_name = \"Gold FPO\"\n",
    "score = 0\n",
    "\n",
    "rounds = database.query_all_course_rounds(course_name)\n",
    "print(set([round.layout_name for round in rounds]))\n",
    "\n",
    "get_ratings(course_name, layout_name, score)\n",
    "# print(f'Course distances: {data[\"chosen_layout\"].layout_hole_distances} : {data[\"chosen_layout\"].layout_total_distance}')\n",
    "# print(f'Layout Par: {data[\"chosen_layout\"].layout_par}')\n",
    "# print(f'With {len(data[\"chosen_rounds\"])} rounds')\n",
    "# print(f'Using {set([x.layout_name for x in data[\"chosen_rounds\"]])}')\n",
    "# print(data['par_rating_mean'] - (score * data['stroke_value_median']))"
   ]
  }
 ],
 "metadata": {
  "kernelspec": {
   "display_name": "venv",
   "language": "python",
   "name": "python3"
  },
  "language_info": {
   "codemirror_mode": {
    "name": "ipython",
    "version": 3
   },
   "file_extension": ".py",
   "mimetype": "text/x-python",
   "name": "python",
   "nbconvert_exporter": "python",
   "pygments_lexer": "ipython3",
   "version": "3.9.6"
  }
 },
 "nbformat": 4,
 "nbformat_minor": 2
}
