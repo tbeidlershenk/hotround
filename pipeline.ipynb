{
 "cells": [
  {
   "cell_type": "code",
   "execution_count": null,
   "metadata": {},
   "outputs": [],
   "source": [
    "# 1. Import and install requirements\n",
    "import logging\n",
    "from util.database import Database\n",
    "from util.scraper import Scraper\n",
    "import json\n",
    "import itertools\n",
    "import chromedriver_autoinstaller\n",
    "\n",
    "database = Database(\"sqlite:///data/pdga_data.db\")\n",
    "scraper = Scraper()\n",
    "\n",
    "chromedriver_autoinstaller.install()"
   ]
  },
  {
   "cell_type": "code",
   "execution_count": null,
   "metadata": {},
   "outputs": [],
   "source": [
    "# 2. Build list of courses and write to JSON\n",
    "courses = scraper.get_courses_from_dgscene()\n",
    "course_names = {\n",
    "    course: scraper.get_readable_course_name(course) for course in courses\n",
    "}\n",
    "with open('data/course_names.json', 'w') as f:\n",
    "    json.dump(course_names, f, indent=4)"
   ]
  },
  {
   "cell_type": "code",
   "execution_count": null,
   "metadata": {},
   "outputs": [],
   "source": [
    "# 3. Build list of events and write to JSON\n",
    "with open('data/course_names.json') as f:\n",
    "    course_names: dict = json.load(f)\n",
    "\n",
    "with open('data/course_events.json') as f:\n",
    "    course_events: dict = json.load(f)\n",
    "\n",
    "for i, course in enumerate(course_names):\n",
    "    if course in course_events:\n",
    "        logging.info(f'Skipping {course} (already scraped)...')\n",
    "        continue\n",
    "\n",
    "    logging.info(f'Fetching event {i}/{len(course_names)}')\n",
    "    course_events[course] = scraper.get_all_sanctioned_events(course)\n",
    "    logging.info(course_events[course])\n",
    "\n",
    "    # periodically save ratings to file\n",
    "    with open('data/course_events.json', 'w') as f:\n",
    "        json.dump(course_events, f, indent=4)\n",
    "\n",
    "logging.info(\"Done\")"
   ]
  },
  {
   "cell_type": "code",
   "execution_count": null,
   "metadata": {},
   "outputs": [],
   "source": [
    "# 4. Fetch ratings for each event and load into DB\n",
    "try:\n",
    "    logging.info('Fetching ratings...')\n",
    "    \n",
    "    with open('data/course_names.json') as f:\n",
    "        course_names: dict = json.load(f)\n",
    "    with open('data/course_events.json') as f:\n",
    "        course_events: dict = json.load(f)\n",
    "    \n",
    "    for i, course in enumerate(course_events):\n",
    "        events = course_events[course]\n",
    "        rounds = []\n",
    "\n",
    "        for j, event in enumerate(events):\n",
    "            event_id = event['event_id']\n",
    "            if database.event_exists(event_id):\n",
    "                logging.info(f'Skipping {event_id} (already scraped)...')\n",
    "                continue\n",
    "\n",
    "            course_ratings = scraper.get_round_ratings_for_tournament(event_id)\n",
    "            rounds.extend(course_ratings)\n",
    "            logging.info(f'Event {j+1}/{len(events)} - Course {i+1}/{len(course_events)}')\n",
    "\n",
    "        data = {\n",
    "            'course_name': course,\n",
    "            'readable_course_name': course_names[course],\n",
    "            'events': course_events[course],\n",
    "            'rounds': rounds\n",
    "        }\n",
    "        database.insert_course_data(data)\n",
    "        \n",
    "\n",
    "except BaseException as e:\n",
    "    logging.info(f'Error fetching ratings: {e.with_traceback()}')\n",
    "except KeyboardInterrupt as e:\n",
    "    logging.info(f'Error fetching ratings: {e.with_traceback()}')\n",
    "\n",
    "scraper.cleanup()\n",
    "logging.info(\"Done\")"
   ]
  },
  {
   "cell_type": "code",
   "execution_count": 1,
   "metadata": {},
   "outputs": [
    {
     "name": "stdout",
     "output_type": "stream",
     "text": [
      "Rounds: 95\n",
      "Clusters: 7\n",
      "8347\n",
      "[331, 304, 363, 376, 581, 388, 750, 599, 367, 480, 289, 314, 376, 464, 535, 523, 609, 506]\n",
      "[8400, 8400, 8400, 8400, 8400, 8400, 8400, 8400, 8317, 8317, 8317, 8317, 8317, 8317, 8317, 8317, 8317, 8317, 8317, 8317, 8317, 8317]\n",
      "22\n",
      "8025\n",
      "[353, 302, 268, 723, 244, 853, 696, 358, 486, 257, 204, 352, 298, 585, 579, 640, 538, 289]\n",
      "[8025, 8025, 8025, 8025, 8025, 8025, 8025, 8025, 8025, 8025, 8025, 8025, 8025, 8025, 8025, 8025, 8025, 8025, 8025]\n",
      "19\n",
      "8341\n",
      "[703, 281, 255, 723, 244, 853, 696, 358, 486, 257, 204, 352, 298, 585, 579, 640, 538, 289]\n",
      "[8375, 8375, 8375, 8375, 8375, 8375, 8375, 8375, 8375, 8375, 8375, 8375, 8375, 8270, 8270, 8270, 8270, 8270, 8270]\n",
      "19\n",
      "9243\n",
      "[474, 712, 600, 496, 333, 398, 413, 747, 296, 580, 435, 537, 287, 732, 373, 737, 519, 574]\n",
      "[9243, 9243, 9243, 9243, 9243, 9243, 9243, 9243, 9243, 9243, 9243, 9243, 9243, 9243, 9243, 9243, 9243]\n",
      "17\n",
      "8735\n",
      "[703, 302, 268, 723, 244, 853, 696, 358, 486, 257, 204, 352, 298, 585, 579, 640, 195, 538, 165, 289]\n",
      "[8735, 8735, 8735, 8735, 8735, 8735, 8735]\n",
      "7\n",
      "6418\n",
      "[703, 237, 228, 312, 244, 627, 500, 263, 265, 257, 204, 352, 298, 327, 323, 541, 448, 289]\n",
      "[6418, 6418, 6418, 6418, 6418]\n",
      "5\n",
      "7297\n",
      "[295, 225, 370, 420, 222, 484, 465, 347, 385, 375, 438, 509, 355, 635, 450, 315, 555, 452]\n",
      "[7297, 7297, 7297, 7297, 7297]\n",
      "5\n"
     ]
    }
   ],
   "source": [
    "from models.round import group_comparable_rounds\n",
    "from util.database import Round, Database\n",
    "from fuzzywuzzy import process, fuzz\n",
    "import numpy as np\n",
    "\n",
    "course_name = 'Ship Rock DGC'\n",
    "layout_name = 'Gold'\n",
    "database = Database(\"sqlite:///data/pdga_data.db\")\n",
    "rounds = database.query_all_course_rounds(readable_course_name=course_name)\n",
    "all_layout_names = set([round.layout_name for round in rounds])\n",
    "scored_layouts: tuple[str, int] = process.extractBests(layout_name, all_layout_names, scorer=fuzz.partial_token_sort_ratio, score_cutoff=0, limit=10)\n",
    "matching_layout_names = [layout for layout, _ in process.extractBests(layout_name, all_layout_names, scorer=fuzz.partial_token_sort_ratio, score_cutoff=75, limit=100)]\n",
    "matching_rounds = [round for round in rounds if round.layout_name in matching_layout_names]\n",
    "grouped_rounds = group_comparable_rounds(matching_rounds, threshold=1)\n",
    "\n",
    "print(f\"Rounds: {len(matching_rounds)}\")\n",
    "print(f\"Clusters: {len(grouped_rounds)}\")\n",
    "for layout in grouped_rounds:\n",
    "    print(int(np.mean([r.layout_total_distance for r in layout.rounds_used])))\n",
    "    print(layout.layout_hole_distances)\n",
    "    print([r.layout_total_distance for r in layout.rounds_used]) \n",
    "    print(len(layout.rounds_used))\n"
   ]
  },
  {
   "cell_type": "code",
   "execution_count": 2,
   "metadata": {},
   "outputs": [
    {
     "data": {
      "text/plain": [
       "[<models.round.Layout at 0x10a54e130>, <models.round.Layout at 0x10a533f40>]"
      ]
     },
     "execution_count": 2,
     "metadata": {},
     "output_type": "execute_result"
    }
   ],
   "source": [
    "grouped_rounds"
   ]
  }
 ],
 "metadata": {
  "kernelspec": {
   "display_name": "venv",
   "language": "python",
   "name": "python3"
  },
  "language_info": {
   "codemirror_mode": {
    "name": "ipython",
    "version": 3
   },
   "file_extension": ".py",
   "mimetype": "text/x-python",
   "name": "python",
   "nbconvert_exporter": "python",
   "pygments_lexer": "ipython3",
   "version": "3.9.6"
  }
 },
 "nbformat": 4,
 "nbformat_minor": 2
}
