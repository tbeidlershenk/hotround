{
 "cells": [
  {
   "cell_type": "code",
   "execution_count": 2,
   "metadata": {},
   "outputs": [
    {
     "ename": "ModuleNotFoundError",
     "evalue": "No module named 'logger'",
     "output_type": "error",
     "traceback": [
      "\u001b[0;31m---------------------------------------------------------------------------\u001b[0m",
      "\u001b[0;31mModuleNotFoundError\u001b[0m                       Traceback (most recent call last)",
      "Cell \u001b[0;32mIn[2], line 1\u001b[0m\n\u001b[0;32m----> 1\u001b[0m \u001b[38;5;28;01mfrom\u001b[39;00m \u001b[38;5;21;01mscrape_courses\u001b[39;00m \u001b[38;5;28;01mimport\u001b[39;00m get_courses_from_dgscene, get_readable_course_name\n\u001b[1;32m      2\u001b[0m \u001b[38;5;28;01mimport\u001b[39;00m \u001b[38;5;21;01mjson\u001b[39;00m\n",
      "File \u001b[0;32m~/dev/repos/rating-calculator/scrape_courses.py:4\u001b[0m\n\u001b[1;32m      2\u001b[0m \u001b[38;5;28;01mfrom\u001b[39;00m \u001b[38;5;21;01mbs4\u001b[39;00m \u001b[38;5;28;01mimport\u001b[39;00m BeautifulSoup, Tag\n\u001b[1;32m      3\u001b[0m \u001b[38;5;28;01mimport\u001b[39;00m \u001b[38;5;21;01mtime\u001b[39;00m\n\u001b[0;32m----> 4\u001b[0m \u001b[38;5;28;01mfrom\u001b[39;00m \u001b[38;5;21;01mlogger\u001b[39;00m \u001b[38;5;28;01mimport\u001b[39;00m logger\n\u001b[1;32m      5\u001b[0m \u001b[38;5;28;01mfrom\u001b[39;00m \u001b[38;5;21;01mutil\u001b[39;00m \u001b[38;5;28;01mimport\u001b[39;00m get_request_avoid_rate_limit\n\u001b[1;32m      6\u001b[0m \u001b[38;5;28;01mfrom\u001b[39;00m \u001b[38;5;21;01mlxml\u001b[39;00m \u001b[38;5;28;01mimport\u001b[39;00m html\n",
      "\u001b[0;31mModuleNotFoundError\u001b[0m: No module named 'logger'"
     ]
    }
   ],
   "source": [
    "from scrape_courses import get_courses_from_dgscene, get_readable_course_name\n",
    "import json"
   ]
  },
  {
   "cell_type": "code",
   "execution_count": 1,
   "metadata": {},
   "outputs": [
    {
     "ename": "NameError",
     "evalue": "name 'get_courses_from_dgscene' is not defined",
     "output_type": "error",
     "traceback": [
      "\u001b[0;31m---------------------------------------------------------------------------\u001b[0m",
      "\u001b[0;31mNameError\u001b[0m                                 Traceback (most recent call last)",
      "Cell \u001b[0;32mIn[1], line 4\u001b[0m\n\u001b[1;32m      1\u001b[0m \u001b[38;5;66;03m# TODO\u001b[39;00m\n\u001b[1;32m      2\u001b[0m \u001b[38;5;66;03m# generate list of all courses\u001b[39;00m\n\u001b[1;32m      3\u001b[0m \u001b[38;5;66;03m# write to json\u001b[39;00m\n\u001b[0;32m----> 4\u001b[0m courses \u001b[38;5;241m=\u001b[39m \u001b[43mget_courses_from_dgscene\u001b[49m()\n\u001b[1;32m      5\u001b[0m course_names \u001b[38;5;241m=\u001b[39m {\n\u001b[1;32m      6\u001b[0m     course: get_readable_course_name(course) \u001b[38;5;28;01mfor\u001b[39;00m course \u001b[38;5;129;01min\u001b[39;00m courses\n\u001b[1;32m      7\u001b[0m }\n\u001b[1;32m      8\u001b[0m \u001b[38;5;28;01mwith\u001b[39;00m \u001b[38;5;28mopen\u001b[39m(\u001b[38;5;124m'\u001b[39m\u001b[38;5;124mdata/course_names.json\u001b[39m\u001b[38;5;124m'\u001b[39m, \u001b[38;5;124m'\u001b[39m\u001b[38;5;124mw\u001b[39m\u001b[38;5;124m'\u001b[39m) \u001b[38;5;28;01mas\u001b[39;00m f:\n",
      "\u001b[0;31mNameError\u001b[0m: name 'get_courses_from_dgscene' is not defined"
     ]
    }
   ],
   "source": [
    "# TODO\n",
    "# generate list of all courses\n",
    "# write to json\n",
    "courses = get_courses_from_dgscene()\n",
    "course_names = {\n",
    "    course: get_readable_course_name(course) for course in courses\n",
    "}\n",
    "with open('data/course_names.json', 'w') as f:\n",
    "    json.dump(course_names, f, indent=4)"
   ]
  },
  {
   "cell_type": "code",
   "execution_count": 9,
   "metadata": {},
   "outputs": [
    {
     "ename": "SyntaxError",
     "evalue": "cannot use absolute path on element (<string>)",
     "output_type": "error",
     "traceback": [
      "Traceback \u001b[0;36m(most recent call last)\u001b[0m:\n",
      "\u001b[0m  File \u001b[1;32m~/dev/tester/rating-calculator/venv/lib/python3.11/site-packages/IPython/core/interactiveshell.py:3577\u001b[0m in \u001b[1;35mrun_code\u001b[0m\n    exec(code_obj, self.user_global_ns, self.user_ns)\u001b[0m\n",
      "\u001b[0m  Cell \u001b[1;32mIn[9], line 1\u001b[0m\n    print(get_readable_course_name('Hillcrest_Country_Club_Golf_Course_with_27_Hole_Te'))\u001b[0m\n",
      "\u001b[0m  File \u001b[1;32m~/dev/tester/rating-calculator/scrape_courses.py:67\u001b[0m in \u001b[1;35mget_readable_course_name\u001b[0m\n    print(type(tree))\u001b[0m\n",
      "\u001b[0m  File \u001b[1;32msrc/lxml/etree.pyx:1573\u001b[0m in \u001b[1;35mlxml.etree._Element.find\u001b[0m\n",
      "\u001b[0m  File \u001b[1;32msrc/lxml/_elementpath.py:319\u001b[0m in \u001b[1;35mlxml._elementpath.find\u001b[0m\n",
      "\u001b[0m  File \u001b[1;32msrc/lxml/_elementpath.py:308\u001b[0m in \u001b[1;35mlxml._elementpath.iterfind\u001b[0m\n",
      "\u001b[0;36m  File \u001b[0;32msrc/lxml/_elementpath.py:277\u001b[0;36m in \u001b[0;35mlxml._elementpath._build_path_iterator\u001b[0;36m\n",
      "\u001b[0;36m  File \u001b[0;32m<string>\u001b[0;36m\u001b[0m\n\u001b[0;31mSyntaxError\u001b[0m\u001b[0;31m:\u001b[0m cannot use absolute path on element\n"
     ]
    }
   ],
   "source": [
    "print(get_readable_course_name('Hillcrest_Country_Club_Golf_Course_with_27_Hole_Te'))"
   ]
  }
 ],
 "metadata": {
  "kernelspec": {
   "display_name": "venv",
   "language": "python",
   "name": "python3"
  },
  "language_info": {
   "codemirror_mode": {
    "name": "ipython",
    "version": 3
   },
   "file_extension": ".py",
   "mimetype": "text/x-python",
   "name": "python",
   "nbconvert_exporter": "python",
   "pygments_lexer": "ipython3",
   "version": "3.11.10"
  }
 },
 "nbformat": 4,
 "nbformat_minor": 2
}
