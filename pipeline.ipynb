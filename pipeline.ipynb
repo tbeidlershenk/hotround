{
 "cells": [
  {
   "cell_type": "code",
   "execution_count": 1,
   "metadata": {},
   "outputs": [
    {
     "name": "stderr",
     "output_type": "stream",
     "text": [
      "/Users/tobiasbeidlershenk/dev/repos/pdga-rating-bot/venv/lib/python3.9/site-packages/urllib3/__init__.py:35: NotOpenSSLWarning: urllib3 v2 only supports OpenSSL 1.1.1+, currently the 'ssl' module is compiled with 'LibreSSL 2.8.3'. See: https://github.com/urllib3/urllib3/issues/3020\n",
      "  warnings.warn(\n"
     ]
    },
    {
     "name": "stdout",
     "output_type": "stream",
     "text": [
      "[30/Oct/2024 14:48:15] INFO - Chromedriver is already installed.\n"
     ]
    },
    {
     "data": {
      "text/plain": [
       "'/Users/tobiasbeidlershenk/dev/repos/pdga-rating-bot/venv/lib/python3.9/site-packages/chromedriver_autoinstaller/130/chromedriver'"
      ]
     },
     "execution_count": 1,
     "metadata": {},
     "output_type": "execute_result"
    }
   ],
   "source": [
    "# 1. Import and install requirements\n",
    "from scrape_courses import get_courses_from_dgscene, get_readable_course_name\n",
    "from scrape_events import get_all_sanctioned_events\n",
    "from scrape_ratings import get_round_ratings_for_tournament\n",
    "from logger import logger\n",
    "from util.database import Database\n",
    "from util.scraper import Scraper\n",
    "import json\n",
    "import itertools\n",
    "import chromedriver_autoinstaller\n",
    "\n",
    "database = Database(\"sqlite:///pdga_rating_bot.db\")\n",
    "\n",
    "chromedriver_autoinstaller.install()"
   ]
  },
  {
   "cell_type": "code",
   "execution_count": null,
   "metadata": {},
   "outputs": [],
   "source": [
    "# 2. Build list of courses and write to JSON\n",
    "courses = scraper.get_courses_from_dgscene()\n",
    "course_names = {\n",
    "    course: scraper.get_readable_course_name(course) for course in courses\n",
    "}\n",
    "with open('data/course_names.json', 'w') as f:\n",
    "    json.dump(course_names, f, indent=4)"
   ]
  },
  {
   "cell_type": "code",
   "execution_count": null,
   "metadata": {},
   "outputs": [],
   "source": [
    "# 3. Build list of events and write to JSON\n",
    "with open('data/course_names.json') as f:\n",
    "    course_names: dict = json.load(f)\n",
    "\n",
    "with open('data/course_events.json') as f:\n",
    "    course_events: dict = json.load(f)\n",
    "\n",
    "for i, course in enumerate(course_names):\n",
    "    if course in course_events:\n",
    "        logger.info(f'Skipping {course} (already scraped)...')\n",
    "        continue\n",
    "\n",
    "    logger.info(f'Fetching event {i}/{len(course_names)}')\n",
    "    course_events[course] = scraper.get_all_sanctioned_events(course)\n",
    "    logger.info(course_events[course])\n",
    "\n",
    "    # periodically save ratings to file\n",
    "    with open('data/course_events.json', 'w') as f:\n",
    "        json.dump(course_events, f, indent=4)\n",
    "\n",
    "logger.info(\"Done\")"
   ]
  },
  {
   "cell_type": "code",
   "execution_count": 2,
   "metadata": {},
   "outputs": [
    {
     "name": "stdout",
     "output_type": "stream",
     "text": [
      "[30/Oct/2024 14:48:17] INFO - Fetching ratings...\n",
      "[30/Oct/2024 14:48:18] INFO - Skipping 22_Birdwalk (no events found)...\n",
      "[30/Oct/2024 14:48:18] INFO - Skipping 4_Wing_Campground (no events found)...\n",
      "[30/Oct/2024 14:48:18] INFO - Skipping Alexander_Hamilton_Park (no events found)...\n",
      "[30/Oct/2024 14:48:18] INFO - Skipping Anderson_Park_AB (no events found)...\n",
      "[30/Oct/2024 14:48:34] INFO - Event 1/8 - Course 5/11311\n",
      "[30/Oct/2024 14:48:51] INFO - Event 2/8 - Course 5/11311\n",
      "[30/Oct/2024 14:49:42] INFO - Event 3/8 - Course 5/11311\n",
      "[30/Oct/2024 14:49:56] INFO - Event 4/8 - Course 5/11311\n",
      "[30/Oct/2024 14:50:34] INFO - Event 5/8 - Course 5/11311\n",
      "[30/Oct/2024 14:50:49] INFO - Event 6/8 - Course 5/11311\n",
      "[30/Oct/2024 14:51:26] INFO - Event 7/8 - Course 5/11311\n",
      "[30/Oct/2024 14:51:35] INFO - Event 8/8 - Course 5/11311\n",
      "[30/Oct/2024 14:51:36] INFO - Inserted course data for Aperture_Park\n",
      "[30/Oct/2024 14:52:33] INFO - Event 1/5 - Course 6/11311\n",
      "[30/Oct/2024 14:53:30] INFO - Event 2/5 - Course 6/11311\n",
      "[30/Oct/2024 14:54:19] INFO - Event 3/5 - Course 6/11311\n"
     ]
    },
    {
     "ename": "TypeError",
     "evalue": "BaseException.with_traceback() takes exactly one argument (0 given)",
     "output_type": "error",
     "traceback": [
      "\u001b[0;31m---------------------------------------------------------------------------\u001b[0m",
      "\u001b[0;31mKeyboardInterrupt\u001b[0m                         Traceback (most recent call last)",
      "Cell \u001b[0;32mIn[2], line 26\u001b[0m\n\u001b[1;32m     24\u001b[0m     \u001b[38;5;28;01mcontinue\u001b[39;00m\n\u001b[0;32m---> 26\u001b[0m course_ratings \u001b[38;5;241m=\u001b[39m \u001b[43mscraper\u001b[49m\u001b[38;5;241;43m.\u001b[39;49m\u001b[43mget_round_ratings_for_tournament\u001b[49m\u001b[43m(\u001b[49m\u001b[43mevent_id\u001b[49m\u001b[43m)\u001b[49m\n\u001b[1;32m     27\u001b[0m rounds\u001b[38;5;241m.\u001b[39mextend(course_ratings)\n",
      "File \u001b[0;32m~/dev/repos/pdga-rating-bot/util/scraper.py:216\u001b[0m, in \u001b[0;36mScraper.get_round_ratings_for_tournament\u001b[0;34m(self, event_id)\u001b[0m\n\u001b[1;32m    214\u001b[0m \u001b[38;5;28mself\u001b[39m\u001b[38;5;241m.\u001b[39mdriver\u001b[38;5;241m.\u001b[39mget(Consts\u001b[38;5;241m.\u001b[39mpdgalive_score_page_specific_division_and_round_url\u001b[38;5;241m.\u001b[39mformat(\n\u001b[1;32m    215\u001b[0m     event_id\u001b[38;5;241m=\u001b[39mevent_id, division\u001b[38;5;241m=\u001b[39mdivision, round_number\u001b[38;5;241m=\u001b[39mround_number))\n\u001b[0;32m--> 216\u001b[0m \u001b[43mWebDriverWait\u001b[49m\u001b[43m(\u001b[49m\u001b[38;5;28;43mself\u001b[39;49m\u001b[38;5;241;43m.\u001b[39;49m\u001b[43mdriver\u001b[49m\u001b[43m,\u001b[49m\u001b[43m \u001b[49m\u001b[38;5;241;43m10\u001b[39;49m\u001b[43m)\u001b[49m\u001b[38;5;241;43m.\u001b[39;49m\u001b[43muntil\u001b[49m\u001b[43m(\u001b[49m\n\u001b[1;32m    217\u001b[0m \u001b[43m    \u001b[49m\u001b[43mEC\u001b[49m\u001b[38;5;241;43m.\u001b[39;49m\u001b[43mpresence_of_element_located\u001b[49m\u001b[43m(\u001b[49m\u001b[43m(\u001b[49m\u001b[43mBy\u001b[49m\u001b[38;5;241;43m.\u001b[39;49m\u001b[43mXPATH\u001b[49m\u001b[43m,\u001b[49m\u001b[43m \u001b[49m\u001b[43mConsts\u001b[49m\u001b[38;5;241;43m.\u001b[39;49m\u001b[43mpdgalive_player_row_xpath\u001b[49m\u001b[43m)\u001b[49m\u001b[43m)\u001b[49m\u001b[43m)\u001b[49m\n\u001b[1;32m    218\u001b[0m soup \u001b[38;5;241m=\u001b[39m BeautifulSoup(\u001b[38;5;28mself\u001b[39m\u001b[38;5;241m.\u001b[39mdriver\u001b[38;5;241m.\u001b[39mpage_source, \u001b[38;5;124m'\u001b[39m\u001b[38;5;124mhtml.parser\u001b[39m\u001b[38;5;124m'\u001b[39m)\n",
      "File \u001b[0;32m~/dev/repos/pdga-rating-bot/venv/lib/python3.9/site-packages/selenium/webdriver/support/wait.py:102\u001b[0m, in \u001b[0;36mWebDriverWait.until\u001b[0;34m(self, method, message)\u001b[0m\n\u001b[1;32m    101\u001b[0m     stacktrace \u001b[38;5;241m=\u001b[39m \u001b[38;5;28mgetattr\u001b[39m(exc, \u001b[38;5;124m\"\u001b[39m\u001b[38;5;124mstacktrace\u001b[39m\u001b[38;5;124m\"\u001b[39m, \u001b[38;5;28;01mNone\u001b[39;00m)\n\u001b[0;32m--> 102\u001b[0m \u001b[43mtime\u001b[49m\u001b[38;5;241;43m.\u001b[39;49m\u001b[43msleep\u001b[49m\u001b[43m(\u001b[49m\u001b[38;5;28;43mself\u001b[39;49m\u001b[38;5;241;43m.\u001b[39;49m\u001b[43m_poll\u001b[49m\u001b[43m)\u001b[49m\n\u001b[1;32m    103\u001b[0m \u001b[38;5;28;01mif\u001b[39;00m time\u001b[38;5;241m.\u001b[39mmonotonic() \u001b[38;5;241m>\u001b[39m end_time:\n",
      "\u001b[0;31mKeyboardInterrupt\u001b[0m: ",
      "\nDuring handling of the above exception, another exception occurred:\n",
      "\u001b[0;31mTypeError\u001b[0m                                 Traceback (most recent call last)",
      "Cell \u001b[0;32mIn[2], line 44\u001b[0m\n\u001b[1;32m     40\u001b[0m         database\u001b[38;5;241m.\u001b[39minsert_course_data(data)\n\u001b[1;32m     43\u001b[0m \u001b[38;5;28;01mexcept\u001b[39;00m \u001b[38;5;167;01mBaseException\u001b[39;00m \u001b[38;5;28;01mas\u001b[39;00m e:\n\u001b[0;32m---> 44\u001b[0m     logger\u001b[38;5;241m.\u001b[39minfo(\u001b[38;5;124mf\u001b[39m\u001b[38;5;124m'\u001b[39m\u001b[38;5;124mError fetching ratings: \u001b[39m\u001b[38;5;132;01m{\u001b[39;00me\u001b[38;5;241m.\u001b[39mwith_traceback()\u001b[38;5;132;01m}\u001b[39;00m\u001b[38;5;124m'\u001b[39m)\n\u001b[1;32m     45\u001b[0m \u001b[38;5;28;01mexcept\u001b[39;00m \u001b[38;5;167;01mKeyboardInterrupt\u001b[39;00m \u001b[38;5;28;01mas\u001b[39;00m e:\n\u001b[1;32m     46\u001b[0m     logger\u001b[38;5;241m.\u001b[39minfo(\u001b[38;5;124mf\u001b[39m\u001b[38;5;124m'\u001b[39m\u001b[38;5;124mError fetching ratings: \u001b[39m\u001b[38;5;132;01m{\u001b[39;00me\u001b[38;5;241m.\u001b[39mwith_traceback()\u001b[38;5;132;01m}\u001b[39;00m\u001b[38;5;124m'\u001b[39m)\n",
      "\u001b[0;31mTypeError\u001b[0m: BaseException.with_traceback() takes exactly one argument (0 given)"
     ]
    }
   ],
   "source": [
    "# 4. Fetch ratings for each event and load into DB\n",
    "try:\n",
    "    logger.info('Fetching ratings...')\n",
    "    \n",
    "    with open('data/course_names.json') as f:\n",
    "        course_names: dict = json.load(f)\n",
    "    with open('data/course_events.json') as f:\n",
    "        course_events: dict = json.load(f)\n",
    "    \n",
    "    scraper = Scraper()\n",
    "\n",
    "    for i, course in enumerate(course_events):\n",
    "        events = course_events[course]\n",
    "        if len(events) == 0:\n",
    "            logger.info(f'Skipping {course} (no events found)...')\n",
    "            continue\n",
    "\n",
    "        rounds = []\n",
    "\n",
    "        for j, event in enumerate(events):\n",
    "            event_id = event['event_id']\n",
    "            if database.event_exists(event_id):\n",
    "                logger.info(f'Skipping {event_id} (already scraped)...')\n",
    "                continue\n",
    "\n",
    "            course_ratings = scraper.get_round_ratings_for_tournament(event_id)\n",
    "            rounds.extend(course_ratings)\n",
    "            logger.info(f'Event {j+1}/{len(events)} - Course {i+1}/{len(course_events)}')\n",
    "\n",
    "        if len(rounds) == 0:\n",
    "            logger.info(f'Skipping {course} (no new rounds found)...')\n",
    "            continue\n",
    "\n",
    "        data = {\n",
    "            'course_name': course,\n",
    "            'readable_course_name': course_names[course],\n",
    "            'events': course_events[course],\n",
    "            'rounds': rounds\n",
    "        }\n",
    "        database.insert_course_data(data)\n",
    "        \n",
    "\n",
    "except BaseException as e:\n",
    "    logger.info(f'Error fetching ratings: {e.with_traceback()}')\n",
    "except KeyboardInterrupt as e:\n",
    "    logger.info(f'Error fetching ratings: {e.with_traceback()}')\n",
    "\n",
    "scraper.cleanup()\n",
    "logger.info(\"Done\")"
   ]
  },
  {
   "cell_type": "code",
   "execution_count": 9,
   "metadata": {},
   "outputs": [
    {
     "ename": "SystemExit",
     "evalue": "No rounds found for layout: 'Blue tees'. \nDid you mean: NS-BLUE, Long Tees (Blue), Short Tees (whites), U of L - BLUE, U of L - BLUE Rd2, Yellow tee pads, NS-WHITE, NS-WHITE Rd1, NS-WHITE Rd2, U of L - YELLOW",
     "output_type": "error",
     "traceback": [
      "An exception has occurred, use %tb to see the full traceback.\n",
      "\u001b[0;31mSystemExit\u001b[0m\u001b[0;31m:\u001b[0m No rounds found for layout: 'Blue tees'. \nDid you mean: NS-BLUE, Long Tees (Blue), Short Tees (whites), U of L - BLUE, U of L - BLUE Rd2, Yellow tee pads, NS-WHITE, NS-WHITE Rd1, NS-WHITE Rd2, U of L - YELLOW\n"
     ]
    },
    {
     "name": "stderr",
     "output_type": "stream",
     "text": [
      "/Users/tobiasbeidlershenk/dev/repos/pdga-rating-bot/venv/lib/python3.9/site-packages/IPython/core/interactiveshell.py:3558: UserWarning: To exit: use 'exit', 'quit', or Ctrl-D.\n",
      "  warn(\"To exit: use 'exit', 'quit', or Ctrl-D.\", stacklevel=1)\n"
     ]
    }
   ],
   "source": [
    "from decimal import Decimal\n",
    "import difflib\n",
    "import sys\n",
    "from fuzzywuzzy import fuzz, process\n",
    "import numpy as np\n",
    "\n",
    "course_name = \"Aperture Park\"\n",
    "layout_name = \"Short white tees\"\n",
    "score = 0\n",
    "\n",
    "rounds = database.query_all_course_rounds(course_name)\n",
    "if len(rounds) == 0:\n",
    "    all_course_names = [course.readable_course_name for course in database.query_all_courses()]\n",
    "    scored_course_names: tuple[str, int] = process.extractBests(course_name, all_course_names, scorer=fuzz.partial_ratio, score_cutoff=0, limit=5)\n",
    "    similar_course_names = [course for course, _ in scored_course_names]\n",
    "    sys.exit(f\"No courses found for course: '{course_name}'. \\nDid you mean: {', '.join(similar_course_names)}\")\n",
    "\n",
    "all_layout_names = set([round.layout_name for round in rounds])\n",
    "scored_layouts: tuple[str, int] = process.extractBests(layout_name, all_layout_names, scorer=fuzz.partial_token_sort_ratio, score_cutoff=0, limit=10)\n",
    "best_layout_score = scored_layouts[0][1]\n",
    "if best_layout_score < 75:\n",
    "    similar_layout_names = [layout for layout, _ in scored_layouts]\n",
    "    sys.exit(f\"No rounds found for layout: '{layout_name}'. \\nDid you mean: {', '.join(similar_layout_names)}\")\n",
    "\n",
    "scored_layout_names = [layout for layout, _ in process.extractBests(layout_name, all_layout_names, scorer=fuzz.partial_token_sort_ratio, score_cutoff=75, limit=100)]\n",
    "scored_rounds = [round for round in rounds if round.layout_name in scored_layout_names]\n",
    "scored_layout_par_ratings = [round.par_rating for round in scored_rounds]\n",
    "scored_layout_stroke_values = [round.stroke_value for round in scored_rounds]\n",
    "layout_distance_mode = np.bincount([round.layout_distance for round in scored_rounds]).argmax()\n",
    "par_rating_mean = np.mean(scored_layout_par_ratings)\n",
    "par_rating_median = np.median(scored_layout_par_ratings)\n",
    "par_rating_std = np.std(scored_layout_par_ratings)\n",
    "stroke_value_median = np.mean(scored_layout_stroke_values)\n",
    "par_rating_range = np.ptp(scored_layout_par_ratings)"
   ]
  },
  {
   "cell_type": "code",
   "execution_count": 8,
   "metadata": {},
   "outputs": [
    {
     "name": "stdout",
     "output_type": "stream",
     "text": [
      "[891, 891, 891, 891, 891, 891, 891, 891]\n",
      "5488\n",
      "891.0\n",
      "891.0\n",
      "0.0\n",
      "11.78875\n",
      "0\n"
     ]
    }
   ],
   "source": [
    "print(scored_layout_par_ratings)\n",
    "print(layout_distance_mode)\n",
    "print(par_rating_mean)\n",
    "print(par_rating_median)\n",
    "print(par_rating_std)\n",
    "print(stroke_value_median)\n",
    "print(par_rating_range)"
   ]
  }
 ],
 "metadata": {
  "kernelspec": {
   "display_name": "venv",
   "language": "python",
   "name": "python3"
  },
  "language_info": {
   "codemirror_mode": {
    "name": "ipython",
    "version": 3
   },
   "file_extension": ".py",
   "mimetype": "text/x-python",
   "name": "python",
   "nbconvert_exporter": "python",
   "pygments_lexer": "ipython3",
   "version": "3.9.6"
  }
 },
 "nbformat": 4,
 "nbformat_minor": 2
}
