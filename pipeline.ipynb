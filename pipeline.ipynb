{
 "cells": [
  {
   "cell_type": "code",
   "execution_count": null,
   "metadata": {},
   "outputs": [],
   "source": [
    "# 1. Import and install requirements\n",
    "import logging\n",
    "from util.database import Database\n",
    "from util.scraper import Scraper\n",
    "import json\n",
    "import itertools\n",
    "import chromedriver_autoinstaller\n",
    "\n",
    "database = Database(\"sqlite:///data/pdga_data.db\")\n",
    "scraper = Scraper()\n",
    "\n",
    "chromedriver_autoinstaller.install()"
   ]
  },
  {
   "cell_type": "code",
   "execution_count": null,
   "metadata": {},
   "outputs": [],
   "source": [
    "# 2. Build list of courses and write to JSON\n",
    "courses = scraper.get_courses_from_dgscene()\n",
    "course_names = {\n",
    "    course: scraper.get_readable_course_name(course) for course in courses\n",
    "}\n",
    "with open('data/course_names.json', 'w') as f:\n",
    "    json.dump(course_names, f, indent=4)"
   ]
  },
  {
   "cell_type": "code",
   "execution_count": null,
   "metadata": {},
   "outputs": [],
   "source": [
    "# 3. Build list of events and write to JSON\n",
    "with open('data/course_names.json') as f:\n",
    "    course_names: dict = json.load(f)\n",
    "\n",
    "with open('data/course_events.json') as f:\n",
    "    course_events: dict = json.load(f)\n",
    "\n",
    "for i, course in enumerate(course_names):\n",
    "    if course in course_events:\n",
    "        logging.info(f'Skipping {course} (already scraped)...')\n",
    "        continue\n",
    "\n",
    "    logging.info(f'Fetching event {i}/{len(course_names)}')\n",
    "    course_events[course] = scraper.get_all_sanctioned_events(course)\n",
    "    logging.info(course_events[course])\n",
    "\n",
    "    # periodically save ratings to file\n",
    "    with open('data/course_events.json', 'w') as f:\n",
    "        json.dump(course_events, f, indent=4)\n",
    "\n",
    "logging.info(\"Done\")"
   ]
  },
  {
   "cell_type": "code",
   "execution_count": null,
   "metadata": {},
   "outputs": [],
   "source": [
    "# 4. Fetch ratings for each event and load into DB\n",
    "try:\n",
    "    logging.info('Fetching ratings...')\n",
    "    \n",
    "    with open('data/course_names.json') as f:\n",
    "        course_names: dict = json.load(f)\n",
    "    with open('data/course_events.json') as f:\n",
    "        course_events: dict = json.load(f)\n",
    "    \n",
    "    for i, course in enumerate(course_events):\n",
    "        events = course_events[course]\n",
    "        rounds = []\n",
    "\n",
    "        for j, event in enumerate(events):\n",
    "            event_id = event['event_id']\n",
    "            if database.event_exists(event_id):\n",
    "                logging.info(f'Skipping {event_id} (already scraped)...')\n",
    "                continue\n",
    "\n",
    "            course_ratings = scraper.get_round_ratings_for_tournament(event_id)\n",
    "            rounds.extend(course_ratings)\n",
    "            logging.info(f'Event {j+1}/{len(events)} - Course {i+1}/{len(course_events)}')\n",
    "\n",
    "        data = {\n",
    "            'course_name': course,\n",
    "            'readable_course_name': course_names[course],\n",
    "            'events': course_events[course],\n",
    "            'rounds': rounds\n",
    "        }\n",
    "        database.insert_course_data(data)\n",
    "        \n",
    "\n",
    "except BaseException as e:\n",
    "    logging.info(f'Error fetching ratings: {e.with_traceback()}')\n",
    "except KeyboardInterrupt as e:\n",
    "    logging.info(f'Error fetching ratings: {e.with_traceback()}')\n",
    "\n",
    "scraper.cleanup()\n",
    "logging.info(\"Done\")"
   ]
  },
  {
   "cell_type": "code",
   "execution_count": 11,
   "metadata": {},
   "outputs": [
    {
     "name": "stdout",
     "output_type": "stream",
     "text": [
      "42\n",
      "Clusters:\n",
      "8781\n",
      "[8796, 8753, 8753, 8727, 8727, 8727, 8727, 8727, 8727, 8784, 8784, 8736, 8736, 8957, 8957, 8957, 8957, 8721, 8721, 8721, 8721]\n",
      "21\n",
      "8949\n",
      "[8949, 8949, 8949, 8949, 8949, 8949]\n",
      "6\n"
     ]
    }
   ],
   "source": [
    "from models.round import group_comparable_rounds\n",
    "from util.database import Round, Database\n",
    "from fuzzywuzzy import process, fuzz\n",
    "import numpy as np\n",
    "\n",
    "course_name = 'Moraine State Park'\n",
    "layout_name = 'Gold'\n",
    "database = Database(\"sqlite:///data/pdga_data.db\")\n",
    "rounds = database.query_all_course_rounds(readable_course_name=course_name)\n",
    "all_layout_names = set([round.layout_name for round in rounds])\n",
    "scored_layouts: tuple[str, int] = process.extractBests(layout_name, all_layout_names, scorer=fuzz.partial_token_sort_ratio, score_cutoff=0, limit=10)\n",
    "matching_layout_names = [layout for layout, _ in process.extractBests(layout_name, all_layout_names, scorer=fuzz.partial_token_sort_ratio, score_cutoff=75, limit=100)]\n",
    "matching_rounds = [round for round in rounds if round.layout_name in matching_layout_names]\n",
    "print(len(matching_rounds))\n",
    "grouped_rounds = group_comparable_rounds(matching_rounds, threshold=0.001)\n",
    "\n",
    "print(\"Clusters:\")\n",
    "for layout in grouped_rounds:\n",
    "    print(int(np.mean([r.layout_total_distance for r in layout.rounds_used])))\n",
    "    print([r.layout_total_distance for r in layout.rounds_used]) \n",
    "    print(len(layout.rounds_used))"
   ]
  }
 ],
 "metadata": {
  "kernelspec": {
   "display_name": "venv",
   "language": "python",
   "name": "python3"
  },
  "language_info": {
   "codemirror_mode": {
    "name": "ipython",
    "version": 3
   },
   "file_extension": ".py",
   "mimetype": "text/x-python",
   "name": "python",
   "nbconvert_exporter": "python",
   "pygments_lexer": "ipython3",
   "version": "3.9.6"
  }
 },
 "nbformat": 4,
 "nbformat_minor": 2
}
