{
 "cells": [
  {
   "cell_type": "code",
   "execution_count": 5,
   "metadata": {},
   "outputs": [
    {
     "name": "stdout",
     "output_type": "stream",
     "text": [
      "[31/Oct/2024 13:24:31] INFO - Chromedriver is already installed.\n"
     ]
    },
    {
     "data": {
      "text/plain": [
       "'/Users/tobiasbeidlershenk/dev/repos/pdga-rating-bot/venv/lib/python3.9/site-packages/chromedriver_autoinstaller/130/chromedriver'"
      ]
     },
     "execution_count": 5,
     "metadata": {},
     "output_type": "execute_result"
    }
   ],
   "source": [
    "# 1. Import and install requirements\n",
    "from logger import logger\n",
    "from util.database import Database\n",
    "from util.scraper import Scraper\n",
    "import json\n",
    "import itertools\n",
    "import chromedriver_autoinstaller\n",
    "\n",
    "database = Database(\"sqlite:///data/pdga_data.db\")\n",
    "scraper = Scraper()\n",
    "\n",
    "chromedriver_autoinstaller.install()"
   ]
  },
  {
   "cell_type": "code",
   "execution_count": null,
   "metadata": {},
   "outputs": [],
   "source": [
    "# 2. Build list of courses and write to JSON\n",
    "courses = scraper.get_courses_from_dgscene()\n",
    "course_names = {\n",
    "    course: scraper.get_readable_course_name(course) for course in courses\n",
    "}\n",
    "with open('data/course_names.json', 'w') as f:\n",
    "    json.dump(course_names, f, indent=4)"
   ]
  },
  {
   "cell_type": "code",
   "execution_count": null,
   "metadata": {},
   "outputs": [],
   "source": [
    "# 3. Build list of events and write to JSON\n",
    "with open('data/course_names.json') as f:\n",
    "    course_names: dict = json.load(f)\n",
    "\n",
    "with open('data/course_events.json') as f:\n",
    "    course_events: dict = json.load(f)\n",
    "\n",
    "for i, course in enumerate(course_names):\n",
    "    if course in course_events:\n",
    "        logger.info(f'Skipping {course} (already scraped)...')\n",
    "        continue\n",
    "\n",
    "    logger.info(f'Fetching event {i}/{len(course_names)}')\n",
    "    course_events[course] = scraper.get_all_sanctioned_events(course)\n",
    "    logger.info(course_events[course])\n",
    "\n",
    "    # periodically save ratings to file\n",
    "    with open('data/course_events.json', 'w') as f:\n",
    "        json.dump(course_events, f, indent=4)\n",
    "\n",
    "logger.info(\"Done\")"
   ]
  },
  {
   "cell_type": "code",
   "execution_count": null,
   "metadata": {},
   "outputs": [],
   "source": [
    "# 4. Fetch ratings for each event and load into DB\n",
    "try:\n",
    "    logger.info('Fetching ratings...')\n",
    "    \n",
    "    with open('data/course_names.json') as f:\n",
    "        course_names: dict = json.load(f)\n",
    "    with open('data/course_events.json') as f:\n",
    "        course_events: dict = json.load(f)\n",
    "    \n",
    "    for i, course in enumerate(course_events):\n",
    "        events = course_events[course]\n",
    "        rounds = []\n",
    "\n",
    "        for j, event in enumerate(events):\n",
    "            event_id = event['event_id']\n",
    "            if database.event_exists(event_id):\n",
    "                logger.info(f'Skipping {event_id} (already scraped)...')\n",
    "                continue\n",
    "\n",
    "            course_ratings = scraper.get_round_ratings_for_tournament(event_id)\n",
    "            rounds.extend(course_ratings)\n",
    "            logger.info(f'Event {j+1}/{len(events)} - Course {i+1}/{len(course_events)}')\n",
    "\n",
    "        data = {\n",
    "            'course_name': course,\n",
    "            'readable_course_name': course_names[course],\n",
    "            'events': course_events[course],\n",
    "            'rounds': rounds\n",
    "        }\n",
    "        database.insert_course_data(data)\n",
    "        \n",
    "\n",
    "except BaseException as e:\n",
    "    logger.info(f'Error fetching ratings: {e.with_traceback()}')\n",
    "except KeyboardInterrupt as e:\n",
    "    logger.info(f'Error fetching ratings: {e.with_traceback()}')\n",
    "\n",
    "scraper.cleanup()\n",
    "logger.info(\"Done\")"
   ]
  },
  {
   "cell_type": "code",
   "execution_count": 24,
   "metadata": {},
   "outputs": [],
   "source": [
    "from decimal import Decimal\n",
    "import sys\n",
    "from fuzzywuzzy import fuzz, process\n",
    "import numpy as np\n",
    "from collections import Counter\n",
    "\n",
    "def get_ratings(course_name: str, layout_name: str, score: int) -> dict:\n",
    "    rounds = database.query_all_course_rounds(course_name)\n",
    "    if len(rounds) == 0:\n",
    "        all_course_names = [course.readable_course_name for course in database.query_all_courses()]\n",
    "        scored_course_names: tuple[str, int] = process.extractBests(course_name, all_course_names, scorer=fuzz.partial_ratio, score_cutoff=0, limit=5)\n",
    "        similar_course_names = [course for course, _ in scored_course_names]\n",
    "        sys.exit(f\"No courses found for course: '{course_name}'. \\nDid you mean: {', '.join(similar_course_names)}\")\n",
    "\n",
    "    all_layout_names = set([round.layout_name for round in rounds])\n",
    "    scored_layouts: tuple[str, int] = process.extractBests(layout_name, all_layout_names, scorer=fuzz.partial_token_sort_ratio, score_cutoff=0, limit=10)\n",
    "    best_layout_score = scored_layouts[0][1]\n",
    "    if best_layout_score < 75:\n",
    "        similar_layout_names = [layout for layout, _ in scored_layouts]\n",
    "        sys.exit(f\"No rounds found for layout: '{layout_name}'. \\nDid you mean: {', '.join(similar_layout_names)}\")\n",
    "\n",
    "    if layout_name.lower() in [x.lower() for x in all_layout_names]:\n",
    "        scored_layout_names = [layout_name]\n",
    "    else:\n",
    "        scored_layout_names = [layout for layout, _ in process.extractBests(layout_name, all_layout_names, scorer=fuzz.partial_token_sort_ratio, score_cutoff=75, limit=100)]\n",
    "    \n",
    "    scored_rounds = [round for round in rounds if round.layout_name in scored_layout_names]\n",
    "    scored_layout_par_ratings = [round.par_rating for round in scored_rounds]\n",
    "    scored_layout_stroke_values = [round.stroke_value for round in scored_rounds]\n",
    "    matching_rounds = [(round.layout_name, round.layout_total_distance, round.layout_hole_distances, round.layout_par) for round in scored_rounds]\n",
    "    matching_rounds_counter = Counter(matching_rounds)\n",
    "    condensed_matching_rounds = [(w, x, y, z, count) for (w, x, y, z), count in matching_rounds_counter.items()]\n",
    "    layout_distance_mode = np.bincount([round.layout_total_distance for round in scored_rounds]).argmax()\n",
    "    par_rating_mean = np.mean(scored_layout_par_ratings)\n",
    "    par_rating_median = np.median(scored_layout_par_ratings)\n",
    "    par_rating_std = np.std(scored_layout_par_ratings)\n",
    "    stroke_value_mean = np.mean(scored_layout_stroke_values)\n",
    "    stroke_value_median = np.mean(scored_layout_stroke_values)\n",
    "    par_rating_range = np.ptp(scored_layout_par_ratings)\n",
    "    data = {\n",
    "        'course_name': course_name,\n",
    "        'layout_name': layout_name,\n",
    "        'used_layouts': condensed_matching_rounds,\n",
    "        'score': score,\n",
    "        'layout_distance_chosen': int(layout_distance_mode),\n",
    "        'par_rating_mean': float(par_rating_mean),\n",
    "        'par_rating_median': float(par_rating_median),\n",
    "        'par_rating_std': float(par_rating_std),\n",
    "        'stroke_value_mean': float(stroke_value_mean),\n",
    "        'stroke_value_median': float(stroke_value_median),\n",
    "        'par_rating_range': int(par_rating_range)\n",
    "    }\n",
    "    return data"
   ]
  },
  {
   "cell_type": "code",
   "execution_count": 25,
   "metadata": {},
   "outputs": [
    {
     "name": "stdout",
     "output_type": "stream",
     "text": [
      "{\n",
      "    \"course_name\": \"Aperture Park\",\n",
      "    \"layout_name\": \"Short Tees (whites)\",\n",
      "    \"used_layouts\": [\n",
      "        [\n",
      "            \"Short Tees (whites)\",\n",
      "            4004,\n",
      "            \"234, 312, 248, 275, 232, 181, 403, 226, 155, 213, 222, 185, 165, 209, 185, 240, 117, 202\",\n",
      "            56,\n",
      "            4\n",
      "        ]\n",
      "    ],\n",
      "    \"score\": 0,\n",
      "    \"layout_distance_chosen\": 4004,\n",
      "    \"par_rating_mean\": 799.5,\n",
      "    \"par_rating_median\": 799.5,\n",
      "    \"par_rating_std\": 0.5,\n",
      "    \"stroke_value_mean\": 14.2175,\n",
      "    \"stroke_value_median\": 14.2175,\n",
      "    \"par_rating_range\": 1\n",
      "}\n",
      "799.5\n"
     ]
    }
   ],
   "source": [
    "course_name = \"Aperture Park\"\n",
    "layout_name = \"Short Tees (whites)\"\n",
    "score = 7\n",
    "\n",
    "rounds = database.query_all_course_rounds(course_name)\n",
    "# print(set([round.layout_name for round in rounds]))\n",
    "\n",
    "data = get_ratings(course_name, layout_name, score)\n",
    "print(json.dumps(data, indent=4))\n",
    "print(data['par_rating_mean'] - (score * data['stroke_value_median']))"
   ]
  }
 ],
 "metadata": {
  "kernelspec": {
   "display_name": "venv",
   "language": "python",
   "name": "python3"
  },
  "language_info": {
   "codemirror_mode": {
    "name": "ipython",
    "version": 3
   },
   "file_extension": ".py",
   "mimetype": "text/x-python",
   "name": "python",
   "nbconvert_exporter": "python",
   "pygments_lexer": "ipython3",
   "version": "3.9.6"
  }
 },
 "nbformat": 4,
 "nbformat_minor": 2
}
