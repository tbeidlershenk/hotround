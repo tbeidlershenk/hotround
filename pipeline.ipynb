{
 "cells": [
  {
   "cell_type": "code",
   "execution_count": 8,
   "metadata": {},
   "outputs": [],
   "source": [
    "from scrape_courses import get_courses_from_dgscene, get_readable_course_name\n",
    "from scrape_events import get_all_sanctioned_events\n",
    "from scrape_ratings import get_round_ratings_for_tournament\n",
    "from logger import logger\n",
    "import json"
   ]
  },
  {
   "cell_type": "code",
   "execution_count": null,
   "metadata": {},
   "outputs": [],
   "source": [
    "# TODO\n",
    "# generate list of all courses\n",
    "# write to json\n",
    "courses = get_courses_from_dgscene()\n",
    "course_names = {\n",
    "    course: get_readable_course_name(course) for course in courses\n",
    "}\n",
    "with open('data/course_names.json', 'w') as f:\n",
    "    json.dump(course_names, f, indent=4)"
   ]
  },
  {
   "cell_type": "code",
   "execution_count": null,
   "metadata": {},
   "outputs": [],
   "source": [
    "with open('data/course_names.json') as f:\n",
    "    course_names: dict = json.load(f)\n",
    "course_events = {}\n",
    "for i, course in enumerate(course_names):\n",
    "    logger.info(f'Fetching event {i}/{len(course_names)}')\n",
    "    course_events[course] = get_all_sanctioned_events(course)\n",
    "with open('data/course_events.json', 'w') as f:\n",
    "    json.dump(course_events, f, indent=4)"
   ]
  },
  {
   "cell_type": "code",
   "execution_count": null,
   "metadata": {},
   "outputs": [],
   "source": [
    "with open('data/course_events.json') as f:\n",
    "    course_events: dict = json.load(f)\n",
    "course_ratings = {}\n",
    "for course in course_events:\n",
    "    events = course_events[course]['events']\n",
    "    course_ratings[course] = {\n",
    "        event: get_round_ratings_for_tournament(event) for event in events\n",
    "    }\n",
    "with open('data/course_ratings.json', 'w') as f:\n",
    "    json.dump(course_ratings, f, indent=4)"
   ]
  }
 ],
 "metadata": {
  "kernelspec": {
   "display_name": "Python 3",
   "language": "python",
   "name": "python3"
  },
  "language_info": {
   "codemirror_mode": {
    "name": "ipython",
    "version": 3
   },
   "file_extension": ".py",
   "mimetype": "text/x-python",
   "name": "python",
   "nbconvert_exporter": "python",
   "pygments_lexer": "ipython3",
   "version": "3.12.1"
  }
 },
 "nbformat": 4,
 "nbformat_minor": 2
}
